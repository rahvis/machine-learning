{
  "nbformat": 4,
  "nbformat_minor": 0,
  "metadata": {
    "colab": {
      "provenance": []
    },
    "kernelspec": {
      "name": "python3",
      "display_name": "Python 3"
    },
    "language_info": {
      "name": "python"
    }
  },
  "cells": [
    {
      "cell_type": "markdown",
      "source": [
        "1. Initialize weights w = 0, bias b = 0\n",
        "2. Define the learning rate alpha and number of iterations\n",
        "3. Loop for a fixed number of iterations or until convergence:\n",
        "    a. Compute the predicted probability:\n",
        "       h = sigmoid(w * X + b)\n",
        "    b. Compute the cost function:\n",
        "       J = -1/m * sum(y * log(h) + (1 - y) * log(1 - h))\n",
        "    c. Compute the gradients (partial derivatives):\n",
        "       dw = (1/m) * sum((h - y) * X)\n",
        "       db = (1/m) * sum(h - y)\n",
        "    d. Update the parameters (weights and bias):\n",
        "       w = w - alpha * dw\n",
        "       b = b - alpha * db\n",
        "4. Return the learned parameters (w, b)\n",
        "5. Make predictions:\n",
        "   - For new data X_new, use sigmoid(w * X_new + b) to get the probability.\n",
        "   - Apply a threshold (e.g., 0.5) to classify the instance as class 1 or 0.\n"
      ],
      "metadata": {
        "id": "f1Fe5YGbtL0Y"
      }
    },
    {
      "cell_type": "code",
      "source": [
        "import numpy as np\n",
        "\n",
        "# Sigmoid Function\n",
        "def sigmoid(z):\n",
        "    \"\"\"\n",
        "    Sigmoid activation function.\n",
        "    \"\"\"\n",
        "    return 1 / (1 + np.exp(-z))\n",
        "\n",
        "# Cost Function (Log-Loss / Cross-Entropy)\n",
        "def compute_cost(X, y, w, b):\n",
        "    \"\"\"\n",
        "    Computes the cost for logistic regression using log-loss.\n",
        "    \"\"\"\n",
        "    m = len(y)  # Number of training examples\n",
        "    y_pred = sigmoid(np.dot(X, w) + b)  # Predicted probabilities\n",
        "    cost = -(1/m) * np.sum(y * np.log(y_pred) + (1 - y) * np.log(1 - y_pred))\n",
        "    return cost\n",
        "\n",
        "# Gradient Descent for Logistic Regression\n",
        "def gradient_descent(X, y, w, b, alpha, epochs):\n",
        "    \"\"\"\n",
        "    Performs gradient descent to learn w and b.\n",
        "    \"\"\"\n",
        "    m = len(y)  # Number of training examples\n",
        "    costs = []  # To store the cost at each epoch for plotting\n",
        "\n",
        "    for epoch in range(epochs):\n",
        "        # Compute the predicted probabilities\n",
        "        y_pred = sigmoid(np.dot(X, w) + b)\n",
        "\n",
        "        # Compute the gradients\n",
        "        dw = (1/m) * np.dot(X.T, (y_pred - y))\n",
        "        db = (1/m) * np.sum(y_pred - y)\n",
        "\n",
        "        # Update the parameters\n",
        "        w -= alpha * dw\n",
        "        b -= alpha * db\n",
        "\n",
        "        # Compute the cost after each epoch\n",
        "        cost = compute_cost(X, y, w, b)\n",
        "        costs.append(cost)\n",
        "\n",
        "        # Print the cost for every 100 epochs\n",
        "        if epoch % 100 == 0:\n",
        "            print(f\"Epoch {epoch}, Cost: {cost:.4f}\")\n",
        "\n",
        "    return w, b, costs\n",
        "\n",
        "# Logistic Regression Model\n",
        "def logistic_regression(X, y, alpha=0.01, epochs=1000):\n",
        "    \"\"\"\n",
        "    Implements logistic regression model from scratch.\n",
        "    \"\"\"\n",
        "    # Initialize weights and bias\n",
        "    w = np.zeros(X.shape[1])  # weights initialized to zero\n",
        "    b = 0  # bias initialized to zero\n",
        "\n",
        "    # Perform gradient descent\n",
        "    w, b, costs = gradient_descent(X, y, w, b, alpha, epochs)\n",
        "\n",
        "    return w, b, costs\n",
        "\n",
        "# Prediction function\n",
        "def predict(X, w, b):\n",
        "    \"\"\"\n",
        "    Predicts the class labels for input features X.\n",
        "    \"\"\"\n",
        "    y_pred = sigmoid(np.dot(X, w) + b)\n",
        "    return [1 if i >= 0.5 else 0 for i in y_pred]\n",
        "\n",
        "# Example Usage\n",
        "if __name__ == \"__main__\":\n",
        "    # Example data: Simple dataset for binary classification\n",
        "    X = np.array([[1], [2], [3], [4], [5]])  # Feature\n",
        "    y = np.array([0, 0, 0, 1, 1])  # Target (binary labels)\n",
        "\n",
        "    # Train the logistic regression model\n",
        "    w, b, costs = logistic_regression(X, y, alpha=0.1, epochs=1000)\n",
        "\n",
        "    # Print the final weights and bias\n",
        "    print(f\"Final weights: {w}\")\n",
        "    print(f\"Final bias: {b}\")\n",
        "\n",
        "    # Predict on new data\n",
        "    X_new = np.array([[6], [7]])  # New data points\n",
        "    predictions = predict(X_new, w, b)\n",
        "\n",
        "    print(f\"Predictions for X_new: {predictions}\")\n",
        "\n",
        "    # Plot the cost curve (optional)\n",
        "    import matplotlib.pyplot as plt\n",
        "    plt.plot(costs)\n",
        "    plt.xlabel('Epochs')\n",
        "    plt.ylabel('Cost')\n",
        "    plt.title('Cost vs. Epochs')\n",
        "    plt.show()\n"
      ],
      "metadata": {
        "colab": {
          "base_uri": "https://localhost:8080/",
          "height": 693
        },
        "id": "s2_dc83ItM1U",
        "outputId": "ef6c7f7a-9c26-4aec-f55c-c8b86c1a619d"
      },
      "execution_count": 1,
      "outputs": [
        {
          "output_type": "stream",
          "name": "stdout",
          "text": [
            "Epoch 0, Cost: 0.6842\n",
            "Epoch 100, Cost: 0.4666\n",
            "Epoch 200, Cost: 0.3642\n",
            "Epoch 300, Cost: 0.3057\n",
            "Epoch 400, Cost: 0.2677\n",
            "Epoch 500, Cost: 0.2408\n",
            "Epoch 600, Cost: 0.2205\n",
            "Epoch 700, Cost: 0.2045\n",
            "Epoch 800, Cost: 0.1915\n",
            "Epoch 900, Cost: 0.1806\n",
            "Final weights: [1.76904586]\n",
            "Final bias: -5.956350539118638\n",
            "Predictions for X_new: [1, 1]\n"
          ]
        },
        {
          "output_type": "display_data",
          "data": {
            "text/plain": [
              "<Figure size 640x480 with 1 Axes>"
            ],
            "image/png": "[encoded data removed]"
          },
          "metadata": {}
        }
      ]
    },
    {
      "cell_type": "code",
      "source": [],
      "metadata": {
        "id": "-F0l7MLRt5Jk"
      },
      "execution_count": null,
      "outputs": []
    }
  ]
}